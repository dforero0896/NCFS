{
 "cells": [
  {
   "cell_type": "code",
   "execution_count": 1,
   "metadata": {},
   "outputs": [
    {
     "ename": "ImportError",
     "evalue": "No module named tkinter",
     "output_type": "error",
     "traceback": [
      "\u001b[0;31m---------------------------------------------------------------------------\u001b[0m",
      "\u001b[0;31mImportError\u001b[0m                               Traceback (most recent call last)",
      "\u001b[0;32m<ipython-input-1-853f7cffb1c4>\u001b[0m in \u001b[0;36m<module>\u001b[0;34m()\u001b[0m\n\u001b[0;32m----> 1\u001b[0;31m \u001b[0;32mfrom\u001b[0m \u001b[0mtkinter\u001b[0m \u001b[0;32mimport\u001b[0m \u001b[0;34m*\u001b[0m\u001b[0;34m\u001b[0m\u001b[0m\n\u001b[0m\u001b[1;32m      2\u001b[0m \u001b[0;32mfrom\u001b[0m \u001b[0mtkinter\u001b[0m\u001b[0;34m.\u001b[0m\u001b[0mmessagebox\u001b[0m \u001b[0;32mimport\u001b[0m \u001b[0mshowinfo\u001b[0m\u001b[0;34m\u001b[0m\u001b[0m\n\u001b[1;32m      3\u001b[0m \u001b[0;32mclass\u001b[0m \u001b[0mApplication\u001b[0m\u001b[0;34m(\u001b[0m\u001b[0mFrame\u001b[0m\u001b[0;34m)\u001b[0m\u001b[0;34m:\u001b[0m\u001b[0;34m\u001b[0m\u001b[0m\n\u001b[1;32m      4\u001b[0m     \u001b[0;32mdef\u001b[0m \u001b[0mclearNameField\u001b[0m\u001b[0;34m(\u001b[0m\u001b[0mself\u001b[0m\u001b[0;34m)\u001b[0m\u001b[0;34m:\u001b[0m\u001b[0;34m\u001b[0m\u001b[0m\n\u001b[1;32m      5\u001b[0m         \u001b[0mself\u001b[0m\u001b[0;34m.\u001b[0m\u001b[0mNOMBRE\u001b[0m\u001b[0;34m.\u001b[0m\u001b[0mdelete\u001b[0m\u001b[0;34m(\u001b[0m\u001b[0;36m0\u001b[0m\u001b[0;34m,\u001b[0m\u001b[0mEND\u001b[0m\u001b[0;34m)\u001b[0m\u001b[0;34m\u001b[0m\u001b[0m\n",
      "\u001b[0;31mImportError\u001b[0m: No module named tkinter"
     ]
    }
   ],
   "source": [
    "from tkinter import *\n",
    "from tkinter.messagebox import showinfo\n",
    "class Application(Frame):\n",
    "    def clearNameField(self):\n",
    "        self.NOMBRE.delete(0,END)\n",
    "    def createConnectionToDB(self):\n",
    "        import pandas as pd\n",
    "        import sqlite3\n",
    "        cnx = sqlite3.connect('../historias.db')\n",
    "        df = pd.read_sql_query(\"SELECT * FROM historias\", cnx)\n",
    "        return df\n",
    "    def getHistoryFromName(self):\n",
    "        df = self.createConnectionToDB()\n",
    "        nStr = self.NOMBRE.get()\n",
    "        try:\n",
    "            if nStr ==\"\":\n",
    "                raise NameError('ERROR: Por favor ingrese un nombre para el paciente.')\n",
    "            elif not df['Nombre'].str.contains(nStr).any():\n",
    "                raise NameError('ERROR: El paciente no existe en la base de datos')\n",
    "            datosPaciente=df[df['Nombre'].str.contains(nStr, na=False)].reset_index(drop=True)\n",
    "            datosPaciente['Cedula'][0]\n",
    "            archivoHistorias = open(self.SRCDIR+\"historia_\"+nStr.replace(' ','')+\".txt\", \"w\")\n",
    "            archivoHistorias.write(u'Historia del paciente %s, ID %i:\\n'%(nStr, datosPaciente['Cedula'][0]))\n",
    "            fechas = datosPaciente['Fecha'].values\n",
    "            tratamientos = datosPaciente['Tratamiento'].values\n",
    "            efisico = datosPaciente['Examen Fisico'].values\n",
    "            diagnostico = datosPaciente['Diagnostico'].values\n",
    "            antecedentes = datosPaciente['Antecedentes'].values\n",
    "            sintomas = datosPaciente['Sintomas'].values\n",
    "            for i in range(len(fechas)):\n",
    "                if i==0:\n",
    "                    archivoHistorias.write('\\subsection*{'+str(fechas[i])+':}'+'\\n \\subsubsection*{Antecedentes:} '+str(antecedentes[i])+'\\n \\subsubsection*{Síntomas:} '+str(sintomas[i])+'\\n \\subsubsection*{Examen Físico:} '+str(efisico[i])+'\\n \\subsubsection*{Diagnóstico:} '+str(diagnostico[i])+'\\n \\subsubsection*{Tratamiento:} ' + str(tratamientos[i])+'\\n')\n",
    "                else:\n",
    "                    archivoHistorias.write('\\subsection*{'+str(fechas[i])+':}'+'\\n \\subsubsection*{Síntomas:} '+str(sintomas[i])+'\\n \\subsubsection*{Examen Físico:} '+str(efisico[i])+'\\n \\subsubsection*{Diagnóstico:} '+str(diagnostico[i])+'\\n \\subsubsection*{Tratamiento:} ' + str(tratamientos[i])+'\\n')\n",
    "            archivoHistorias.close()\n",
    "            \n",
    "            head = open(self.RESDIR+'headHist.txt','r',encoding='latin-1')\n",
    "            headContents = head.readlines()\n",
    "            head.close()\n",
    "            historia = open(self.SRCDIR+'historia_'+nStr.replace(' ','')+\".txt\", \"r\",encoding='latin-1')\n",
    "            historiaContents = historia.readlines()\n",
    "            headContents=[s.replace('NombrePaciente', historiaContents[0]) for s in headContents]\n",
    "            #formulaFixContents = ['\\item '+tip for tip in historiaContents[1:]]\n",
    "            historia.close()\n",
    "            tail = open(self.RESDIR+'tailHist.txt', 'r', encoding='utf-8')\n",
    "            tailContents = tail.readlines()\n",
    "            tail.close()\n",
    "            finalHist = open('historia'+nStr.replace(' ','')+\".tex\", 'w', encoding='utf-8')\n",
    "            toWrite = headContents+historiaContents[1:]+tailContents\n",
    "            for line in toWrite:\n",
    "                finalHist.write(line)\n",
    "            finalHist.close()\n",
    "            import subprocess\n",
    "            subprocess.check_call(['pdflatex', '-output-directory', '../HistoriasPacientes', finalHist.name])\n",
    "            subprocess.check_call(['cleanSource.bat'])\n",
    "            \n",
    "            \n",
    "            popUp = Toplevel()\n",
    "            popUp.title('Hecho')\n",
    "            doneMsgLabel = Label(popUp, text='La historia ha sido exportada al archivo:\\n '+finalHist.name.replace('tex', 'pdf'))\n",
    "            doneMsgLabel.grid(row=2, column=2)\n",
    "            closeButton = Button(popUp,text='Cerrar', command=popUp.destroy)\n",
    "            closeButton.grid(row=3, column=2)\n",
    "        except NameError as ne:\n",
    "            popUp = Toplevel()\n",
    "            popUp.title('Error')\n",
    "            errorMsgLabel = Label(popUp, text=ne.args[0])\n",
    "            errorMsgLabel.grid(row=2, column=2)\n",
    "            closeButton = Button(popUp,text='Cerrar', command=popUp.destroy)\n",
    "            closeButton.grid(row=3, column=2)\n",
    "        except(KeyError,IndexError):\n",
    "            popUp = Toplevel()\n",
    "            popUp.title('Error')\n",
    "            errorMsgLabel = Label(popUp, text=u'ERROR: El paciente no existe.')\n",
    "            errorMsgLabel.grid(row=2, column=2)\n",
    "            closeButton = Button(popUp,text='Cerrar', command=popUp.destroy)\n",
    "            closeButton.grid(row=3, column=2)\n",
    "        \n",
    "    def getFormulaFromName(self):\n",
    "        df = self.createConnectionToDB()\n",
    "        nStr = self.NOMBRE.get()\n",
    "        try:\n",
    "            if nStr ==\"\":\n",
    "                raise NameError('ERROR: Ingrese un nombre para el paciente.')\n",
    "            elif not df['Nombre'].str.contains(nStr).any():\n",
    "                raise NameError('ERROR: El paciente no existe en la base de datos')\n",
    "            datosPaciente=df[df['Nombre'].str.contains(nStr, na=False)].reset_index(drop=True)\n",
    "            datosPaciente['Cedula'][0]\n",
    "            archivoFormulas = open(self.SRCDIR+\"formula_\"+nStr.replace(' ','')+\".txt\", \"w\")\n",
    "            archivoFormulas.write(u'Paciente: %s, ID %i:\\n'%(nStr, datosPaciente['Cedula'][0]))\n",
    "            formulasNoVacias = datosPaciente['Formula'].values[datosPaciente['Formula'].values!=None]\n",
    "            if len(formulasNoVacias)==0:\n",
    "                raise IndexError(u'Aún no existen fórmulas para el paciente.')\n",
    "            archivoFormulas.write(formulasNoVacias[len(formulasNoVacias)-1])\n",
    "            archivoFormulas.close()\n",
    "            \n",
    "            head = open(self.RESDIR+'head.txt','r',encoding='latin-1')\n",
    "            headContents = head.readlines()\n",
    "            head.close()\n",
    "            formula = open(self.SRCDIR+'formula_'+nStr.replace(' ','')+\".txt\", \"r\",encoding='latin-1')\n",
    "            formulaContents = formula.readlines()\n",
    "            headContents=[s.replace('NombrePaciente', formulaContents[0]) for s in headContents]\n",
    "            formulaFixContents = ['\\item '+tip for tip in formulaContents[1:]]\n",
    "            formula.close()\n",
    "            tail = open(self.RESDIR+'tail.txt', 'r', encoding='utf-8')\n",
    "            tailContents = tail.readlines()\n",
    "            tail.close()\n",
    "            finalFormula = open('formula'+nStr.replace(' ','')+\".tex\", 'w', encoding='utf-8')\n",
    "            toWrite = headContents+formulaFixContents+tailContents\n",
    "            for line in toWrite:\n",
    "                finalFormula.write(line)\n",
    "            finalFormula.close()\n",
    "            import subprocess\n",
    "            #subprocess.check_call(['latex', finalFormula.name])\n",
    "            subprocess.check_call(['pdflatex', '-output-directory', '../FormulasPacientes', finalFormula.name])\n",
    "            subprocess.check_call(['cleanSource.bat'])\n",
    "            popUp = Toplevel()\n",
    "            popUp.title('Hecho')\n",
    "            doneMsgLabel = Label(popUp, text='La formula ha sido exportada al archivo:\\n '+finalFormula.name.replace('tex','pdf'))\n",
    "            doneMsgLabel.grid(row=2, column=2)\n",
    "            closeButton = Button(popUp,text='Cerrar', command=popUp.destroy)\n",
    "            closeButton.grid(row=3, column=2)\n",
    "        except IndexError as ie:\n",
    "            popUp = Toplevel()\n",
    "            popUp.title('Error')\n",
    "            errorMsgLabel = Label(popUp, text=ie.args[0])\n",
    "            errorMsgLabel.grid(row=2, column=2)\n",
    "            closeButton = Button(popUp,text='Cerrar', command=popUp.destroy)\n",
    "            closeButton.grid(row=3, column=2)\n",
    "        except NameError as ne:\n",
    "            popUp = Toplevel()\n",
    "            popUp.title('Error')\n",
    "            errorMsgLabel = Label(popUp, text=ne.args[0])\n",
    "            errorMsgLabel.grid(row=2, column=2)\n",
    "            closeButton = Button(popUp,text='Cerrar', command=popUp.destroy)\n",
    "            closeButton.grid(row=3, column=2)\n",
    "            \n",
    "            \n",
    "            \n",
    "            \n",
    "    def createWidgets(self):\n",
    "        self.LABEL_NOMBRE = Label(self, text='Nombre del Paciente')\n",
    "        self.LABEL_NOMBRE.grid(row=2, column=1, sticky=W, pady=4)\n",
    "        self.NOMBRE = Entry(self,textvariable = self.name)\n",
    "        self.NOMBRE['text'] = 'Introduzca el nombre del paciente'\n",
    "        self.NOMBRE.grid(row=2, column = 3)\n",
    "        \n",
    "        self.GENHIST = Button(self, text='Historia', command=self.getHistoryFromName)\n",
    "        self.GENHIST.grid(row=3, column = 3)\n",
    "    \n",
    "        self.GENFORM = Button(self, text='Formula', command=self.getFormulaFromName)\n",
    "        self.GENFORM.grid(row=3, column = 4)\n",
    "        \n",
    "        self.LIMPIAR = Button(self, text='Limpiar', command = self.clearNameField)\n",
    "        self.LIMPIAR.grid(row = 2, column=4)\n",
    "        \n",
    "        \n",
    "        self.QUIT = Button(self)\n",
    "        self.QUIT[\"text\"] = \"Salir\"\n",
    "        self.QUIT[\"fg\"]   = \"red\"\n",
    "        self.QUIT[\"command\"] =  self.quit\n",
    "\n",
    "        self.QUIT.grid(row=3, column = 1)\n",
    "        \n",
    "\n",
    "\n",
    "\n",
    "    def __init__(self, master=None):\n",
    "        Frame.__init__(self, master)\n",
    "        self.SRCDIR = './'\n",
    "        self.RESDIR = './res/'\n",
    "        self.name = StringVar()\n",
    "        master.title(\"Generar Documentos\")\n",
    "        master.geometry('400x100')\n",
    "        self.pack()\n",
    "        self.createWidgets()\n",
    "\n",
    "root = Tk()\n",
    "app = Application(root)\n",
    "app.mainloop()\n",
    "root.destroy()"
   ]
  },
  {
   "cell_type": "code",
   "execution_count": 1,
   "metadata": {},
   "outputs": [],
   "source": [
    "import persistent\n",
    "import transaction\n",
    "from datetime import *\n",
    "class Consulta(persistent.Persistent):\n",
    "    fecha = date.today()\n",
    "    motivo =\"\"\n",
    "    revisionSistemas = {'cabeza y cuello':'', 'torax, respiratorio':'', 'abdomen, digestivo':'', 'genitourinario':'', 'extremidades, oesteoarticular':'', 'neurologico':'', 'generales':'', 'mentales':''}\n",
    "    examenFisico = {'peso':'', 'talla':'', 'fr':'', 'fc':'', 'ta':''}\n",
    "    cheqOrganos = {'cabeza':'', 'torax':'', 'abdomen':'', 'extremidades':'', 'neurologico':''}\n",
    "    diagnostico = ''\n",
    "    tratamiento = []\n",
    "class Historia(persistent.Persistent):\n",
    "    def adicionarConsulta(self,consulta):\n",
    "        self.consultas[str(date.today())] = consulta\n",
    "    def adicionarAntecedentes(self,antecedentesDict):\n",
    "        import transaction\n",
    "        for key, item in antecedentesDict.items():\n",
    "            self.antecedentes[key] = item\n",
    "        transaction.commit()\n",
    "    def __init__(self, numero):\n",
    "        sef.numero = numero\n",
    "        from BTrees.OOBTree import BTree\n",
    "        self.fechaApertura = str(date.today())\n",
    "        self.antecedentes = BTree()\n",
    "        self.antecedentes.update({'patologicos':\"\", 'quirurgicos':'', 'traumaticos':'', 'toxicoalergicos':'', 'ginecoobstetricos':'', 'familiares':'', 'medicamentos':''})\n",
    "        self.consultas = BTree()\n",
    "        import transaction\n",
    "        transaction.commit()\n",
    "\n",
    "class Paciente(persistent.Persistent):\n",
    "    def cambiarDatos(self, dato_key, dato_value):\n",
    "        self.datosPersonales[dato_key]=dato_value\n",
    "    def crearHistoria(self):\n",
    "        self.historia = Historia(self.datosPersonales['id'])\n",
    "    def __init__(self):\n",
    "        from BTrees.OOBTree import BTree\n",
    "        self.datosPersonales = BTree()\n",
    "        self.datosPersonales.update({'nombre':'', 'id':'', 'email':'', 'telefono':'', 'direccion':'', 'procedencia':'', 'fechaNacimiento':'', 'edad':99, 'lugarNacimiento':'', 'sexo':'', 'eps':''})\n",
    "        import transaction\n",
    "        transaction.commit()"
   ]
  },
  {
   "cell_type": "code",
   "execution_count": 2,
   "metadata": {},
   "outputs": [],
   "source": [
    "def adicionarPaciente(datos_dict, root):\n",
    "    datoGet=datos_dict.copy()\n",
    "    #datoGet = {dato:datos_dict[dato].get() for dato in datos_dict.keys()}\n",
    "    root.pacientes[datoGet['nombre']] = Paciente()\n",
    "    transaction.commit()\n",
    "    \n",
    "def adicionarPacienteWindow(dato, root):\n",
    "    dummyPaciente = Paciente()\n",
    "    datos = dummyPaciente.datosPersonales.keys()\n",
    "    #popUp = Toplevel()\n",
    "    #popUp.title('Adicionar Paciente')\n",
    "    #datoLabels = [Label(popUp, text=dato.capitalize()) for dato in datos]\n",
    "    #datoSpaces = {dato:Entry(popUp) for dato in datos}\n",
    "    #[label.grid(row=2+i, column=1) for i, label in enumerate(datoLabels)]\n",
    "    #[space.grid(row=2+i, column=2) for i, space in enumerate(datoSpaces.values())]\n",
    "    adicionarPaciente(dato, root)\n",
    "    #passFunc = lambda : adicionarPaciente(datoSpaces, root)\n",
    "    #adicionarPacienteButton = Button(popUp, text='Adicionar', command = passFunc)\n",
    "    #adicionarPacienteButton.grid(row = len(datos)+2, column = 1)\n",
    "    #closeButton = Button(popUp,text='Cerrar', command=popUp.destroy)\n",
    "    #closeButton.grid(row=len(datos)+2, column=2)\n"
   ]
  },
  {
   "cell_type": "code",
   "execution_count": 3,
   "metadata": {},
   "outputs": [],
   "source": [
    "import ZODB, ZODB.FileStorage\n",
    "import BTrees.OOBTree\n",
    "def createConnectionToDB():\n",
    "    storage = ZODB.FileStorage.FileStorage('pacientes.fs')\n",
    "    db = ZODB.DB(storage)\n",
    "    connection = db.open()\n",
    "    root = connection.root()\n",
    "    return root\n",
    "\n",
    "\n"
   ]
  },
  {
   "cell_type": "code",
   "execution_count": 5,
   "metadata": {},
   "outputs": [],
   "source": [
    "dat = {'nombre':'Daniel Forero', 'id':'1010226640', 'email':'', 'telefono':'', 'direccion':'', 'procedencia':'', 'fechaNacimiento':'', 'edad':99, 'lugarNacimiento':'', 'sexo':'', 'eps':''}\n",
    "dat2 = {'nombre':'John Doe', 'id':'123456', 'email':'', 'telefono':'', 'direccion':'', 'procedencia':'', 'fechaNacimiento':'', 'edad':99, 'lugarNacimiento':'', 'sexo':'', 'eps':''}"
   ]
  },
  {
   "cell_type": "code",
   "execution_count": 6,
   "metadata": {},
   "outputs": [],
   "source": [
    "\n",
    "root = createConnectionToDB()\n",
    "root.pacientes = BTrees.OOBTree.BTree()\n"
   ]
  },
  {
   "cell_type": "code",
   "execution_count": 7,
   "metadata": {},
   "outputs": [
    {
     "name": "stdout",
     "output_type": "stream",
     "text": [
      "True\n",
      "\u0003�s�����\n"
     ]
    }
   ],
   "source": [
    "paciente = Paciente()\n",
    "paciente.datosPersonales['nombre'] = 'John Doe'\n",
    "root.pacientes[paciente.datosPersonales['nombre']] = paciente\n",
    "transaction.commit()\n",
    "print(bool(paciente._p_oid))\n",
    "print(paciente._p_serial)"
   ]
  },
  {
   "cell_type": "code",
   "execution_count": 8,
   "metadata": {},
   "outputs": [],
   "source": [
    "root.pacientes['John Doe'].datosPersonales['nombre'] = 'John Doe'\n",
    "root.pacientes['John Doe'].datosPersonales['nombre']\n",
    "transaction.commit()"
   ]
  },
  {
   "cell_type": "code",
   "execution_count": 9,
   "metadata": {},
   "outputs": [
    {
     "name": "stdout",
     "output_type": "stream",
     "text": [
      "False\n",
      "True\n"
     ]
    },
    {
     "data": {
      "text/plain": [
       "'Jane Doe'"
      ]
     },
     "execution_count": 9,
     "metadata": {},
     "output_type": "execute_result"
    }
   ],
   "source": [
    "print root.pacientes['John Doe']._p_changed\n",
    "root.pacientes['John Doe'].datosPersonales['nombre'] = 'Jane Doe'\n",
    "print root.pacientes['John Doe'].datosPersonales._p_changed\n",
    "root.pacientes['John Doe'].datosPersonales['nombre']\n",
    "#transaction.commit()\n"
   ]
  },
  {
   "cell_type": "code",
   "execution_count": 4,
   "metadata": {},
   "outputs": [],
   "source": [
    "root = createConnectionToDB()\n"
   ]
  },
  {
   "cell_type": "code",
   "execution_count": 5,
   "metadata": {},
   "outputs": [
    {
     "data": {
      "text/plain": [
       "'John Doe'"
      ]
     },
     "execution_count": 5,
     "metadata": {},
     "output_type": "execute_result"
    }
   ],
   "source": [
    "root.pacientes['John Doe'].datosPersonales['nombre']\n"
   ]
  },
  {
   "cell_type": "code",
   "execution_count": null,
   "metadata": {},
   "outputs": [],
   "source": []
  }
 ],
 "metadata": {
  "kernelspec": {
   "display_name": "Python 2",
   "language": "python",
   "name": "python2"
  },
  "language_info": {
   "codemirror_mode": {
    "name": "ipython",
    "version": 2
   },
   "file_extension": ".py",
   "mimetype": "text/x-python",
   "name": "python",
   "nbconvert_exporter": "python",
   "pygments_lexer": "ipython2",
   "version": "2.7.14"
  }
 },
 "nbformat": 4,
 "nbformat_minor": 2
}
